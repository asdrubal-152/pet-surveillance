{
 "cells": [
  {
   "cell_type": "markdown",
   "metadata": {},
   "source": [
    "# Semantic segmentation test\n",
    "\n",
    "---\n",
    "\n",
    "**Author:** [rodoart](https://github.com/rodoart/)<br>\n",
    "**Date created:** 2021/07/24<br>\n",
    "**Last modified:** 2021/07/24<br>\n",
    "**Description:** \n",
    "Using pretrained neural networks to segment images of rooms.\n",
    "\n",
    "# Semantic segmentation of rooms"
   ]
  },
  {
   "cell_type": "markdown",
   "metadata": {},
   "source": [
    "## Path config\n",
    "\n",
    "If you want the files to be copied to another folder within the same machine you are working on, by a source path other than remote."
   ]
  },
  {
   "cell_type": "code",
   "execution_count": 1,
   "metadata": {},
   "outputs": [],
   "source": [
    "PROJECT_SLUG = 'vigilancia_mascotas'\n",
    "NAME = 'semantic_segmentation_test_with_room_data'\n",
    "NUMBER = '0.1'\n",
    "\n",
    "\n",
    "NOTEBOOK_NAME = f'{NUMBER}-{PROJECT_SLUG}-{NAME}.ipynb'\n",
    "\n",
    "# COLAB\n",
    "#DRIVE_MOUNT = '/drive'\n",
    "#REMOTE_PATH = f'{DRIVE_MOUNT}/MyDrive/proyects/{PROJECT_SLUG}'\n",
    "#LOCAL_PATH = '.'\n",
    "#NOTEBOOK_PATH = f'{DRIVE_MOUNT}/MyDrive/Colab Notebooks/{NOTEBOOK_NAME}'\n",
    "\n",
    "# LOCAL\n",
    "REMOTE_PATH = '..'\n",
    "LOCAL_PATH = '..'\n",
    "DRIVE_MOUNT = ''\n",
    "NOTEBOOK_PATH = f'G:\\\\Mi unidad\\\\Colab Notebooks\\\\{NOTEBOOK_NAME}'"
   ]
  },
  {
   "cell_type": "code",
   "execution_count": 2,
   "metadata": {},
   "outputs": [],
   "source": [
    "if DRIVE_MOUNT:\n",
    "    from google.colab import drive\n",
    "    drive.mount(DRIVE_MOUNT)\n",
    "    to_remote = True\n",
    "else:\n",
    "    to_remote = False"
   ]
  },
  {
   "cell_type": "markdown",
   "metadata": {},
   "source": [
    "## Path functions"
   ]
  },
  {
   "cell_type": "code",
   "execution_count": 3,
   "metadata": {},
   "outputs": [],
   "source": [
    "import sys\n",
    "\n",
    "# It depends on where the library that comes with this package is stored.\n",
    "sys.path.append(REMOTE_PATH)"
   ]
  },
  {
   "cell_type": "code",
   "execution_count": 4,
   "metadata": {},
   "outputs": [],
   "source": [
    "from vigilancia_mascotas.utils.paths \\\n",
    "    import make_remote_copy_of_workspace_functions"
   ]
  },
  {
   "cell_type": "code",
   "execution_count": 5,
   "metadata": {},
   "outputs": [],
   "source": [
    "local_dir, update_from_remote, update_to_remote, update_notebook = \\\n",
    "    make_remote_copy_of_workspace_functions(\n",
    "        local_path=LOCAL_PATH,\n",
    "        remote_path=REMOTE_PATH,\n",
    "        notebook_path = NOTEBOOK_PATH\n",
    "    )"
   ]
  },
  {
   "cell_type": "markdown",
   "metadata": {},
   "source": [
    "## Update local folders"
   ]
  },
  {
   "cell_type": "code",
   "execution_count": 6,
   "metadata": {},
   "outputs": [
    {
     "name": "stdout",
     "output_type": "stream",
     "text": [
      "There is no need to copy the remote files, as the remote repository does not exist or is empty.\n"
     ]
    }
   ],
   "source": [
    "update_from_remote()"
   ]
  },
  {
   "cell_type": "markdown",
   "metadata": {},
   "source": [
    "## Prepare the dataset\n",
    "\n",
    "### Download\n",
    "\n",
    "For the development of this experiment, the data set of Unity Computer Vision Datasets (Home interior sample) is used, which contains 1,000 artificially created with different types of labeling, including semantic segmentation.\n",
    "\n",
    "![Example from the dataset](https://content.cdntwrk.com/files/aHViPTEwODAwMiZjbWQ9aXRlbWVkaXRvcmltYWdlJmZpbGVuYW1lPWl0ZW1lZGl0b3JpbWFnZV82MGY5YmY3MGYxNmZkLnBuZyZ2ZXJzaW9uPTAwMDAmc2lnPTIzZTcwMzIwNzIzMGIyMzAwNmZkM2VhNGZiODFiYzkz)\n",
    "\n",
    "Access to the dataset can be obtained directly on the provided page. The following download section is designed to work only for contributors to this project, but can be easily modified once you get the download link."
   ]
  },
  {
   "cell_type": "code",
   "execution_count": 7,
   "metadata": {},
   "outputs": [],
   "source": [
    "import requests"
   ]
  },
  {
   "cell_type": "code",
   "execution_count": 8,
   "metadata": {},
   "outputs": [],
   "source": [
    "file_name = \"Unity_Residential_Interiors.zip\"\n",
    "\n",
    "url_dataset_zip = \"https://storage.googleapis.com/computer-vision-datasets/\"\\\n",
    "                + f\"residential/{file_name}\"\n",
    "\n",
    "zip_destiny_path = local_dir('tmp', file_name)"
   ]
  },
  {
   "cell_type": "code",
   "execution_count": 9,
   "metadata": {},
   "outputs": [],
   "source": [
    "if not zip_destiny_path.is_file():\n",
    "    response = requests.get(URL)\n",
    "    open(zip_destiny_path, \"wb\").write(response.content)"
   ]
  },
  {
   "cell_type": "markdown",
   "metadata": {},
   "source": [
    "### Unzip the files"
   ]
  },
  {
   "cell_type": "code",
   "execution_count": 10,
   "metadata": {},
   "outputs": [],
   "source": [
    "import zipfile\n",
    "from vigilancia_mascotas.utils.paths import is_valid"
   ]
  },
  {
   "cell_type": "code",
   "execution_count": 11,
   "metadata": {},
   "outputs": [],
   "source": [
    "unzip_path = local_dir('tmp', file_name[:-4].lower())"
   ]
  },
  {
   "cell_type": "code",
   "execution_count": 12,
   "metadata": {},
   "outputs": [],
   "source": [
    "if not is_valid(unzip_path):\n",
    "    with zipfile.ZipFile(zip_destiny_path, 'r') as zip_ref:\n",
    "        zip_ref.extractall(unzip_path)\n"
   ]
  },
  {
   "cell_type": "markdown",
   "metadata": {},
   "source": [
    "### Moving files"
   ]
  },
  {
   "cell_type": "code",
   "execution_count": 29,
   "metadata": {},
   "outputs": [],
   "source": [
    "import shutil\n",
    "from os import makedirs"
   ]
  },
  {
   "cell_type": "code",
   "execution_count": 30,
   "metadata": {},
   "outputs": [],
   "source": [
    "dataset_path = local_dir('data','raw','semantic_segmentation', 'unity_residential_interiors')\n",
    "\n",
    "makedirs(dataset_path, exist_ok=True)"
   ]
  },
  {
   "cell_type": "code",
   "execution_count": 33,
   "metadata": {},
   "outputs": [],
   "source": [
    "tmp_images_dir = unzip_path.joinpath(\n",
    "    'Residential Interiors Dataset',\n",
    "    'RGB2d9da855-d495-4bd9-9a1f-6744db5a3249')\n",
    "\n",
    "raw_images_dir = dataset_path.joinpath('images')\n",
    "\n",
    "tmp_labels_dir = tmp_images_dir.parent.joinpath(\n",
    "    'SemanticSegmentation50529ca2-588c-4aba-ab92-a9d4a31a56d4'\n",
    ")\n",
    "raw_labels_dir = dataset_path.joinpath('labels')"
   ]
  },
  {
   "cell_type": "code",
   "execution_count": 35,
   "metadata": {},
   "outputs": [],
   "source": [
    "for source, destiny in zip([tmp_images_dir, tmp_labels_dir], \n",
    "                           [raw_images_dir, raw_labels_dir]):\n",
    "    if not is_valid(destiny):\n",
    "        shutil.move(\n",
    "            src=source,\n",
    "            dst=destiny\n",
    "        )"
   ]
  },
  {
   "cell_type": "markdown",
   "metadata": {},
   "source": [
    "### Separate train and test subsets\n",
    "\n",
    "Shuffle file names"
   ]
  },
  {
   "cell_type": "code",
   "execution_count": 37,
   "metadata": {},
   "outputs": [],
   "source": [
    "from os import listdir"
   ]
  },
  {
   "cell_type": "code",
   "execution_count": 57,
   "metadata": {},
   "outputs": [
    {
     "data": {
      "text/plain": [
       "1000"
      ]
     },
     "execution_count": 57,
     "metadata": {},
     "output_type": "execute_result"
    }
   ],
   "source": [
    "# Obtain file_names\n",
    "file_names = [name[4:-4] for name in listdir(raw_images_dir) if name.endswith('.png')]\n",
    "len(file_names)"
   ]
  },
  {
   "cell_type": "code",
   "execution_count": 49,
   "metadata": {},
   "outputs": [],
   "source": [
    "from random import shuffle"
   ]
  },
  {
   "cell_type": "code",
   "execution_count": 58,
   "metadata": {},
   "outputs": [],
   "source": [
    "shuffle(file_names)"
   ]
  },
  {
   "cell_type": "code",
   "execution_count": 61,
   "metadata": {},
   "outputs": [],
   "source": [
    "n_train = round(len(file_names)*0.7)\n",
    "\n",
    "train_names = file_names[:n_train]\n",
    "val_names = file_names[n_train:]"
   ]
  },
  {
   "cell_type": "markdown",
   "metadata": {},
   "source": [
    "### Move files to train and test folders"
   ]
  },
  {
   "cell_type": "code",
   "execution_count": 69,
   "metadata": {},
   "outputs": [],
   "source": [
    "dataset_processed_path = local_dir('data','processed','semantic_segmentation', 'unity_residential_interiors')"
   ]
  },
  {
   "cell_type": "code",
   "execution_count": 71,
   "metadata": {},
   "outputs": [
    {
     "data": {
      "text/plain": [
       "WindowsPath('G:/Mi unidad/IA/seminario_innovacion/vigilancia_mascotas/data/raw/semantic_segmentation/unity_residential_interiors')"
      ]
     },
     "execution_count": 71,
     "metadata": {},
     "output_type": "execute_result"
    }
   ],
   "source": [
    "dataset_path"
   ]
  },
  {
   "cell_type": "code",
   "execution_count": 100,
   "metadata": {},
   "outputs": [],
   "source": [
    "from os import mkdir\n",
    "from os import rmdir"
   ]
  },
  {
   "cell_type": "code",
   "execution_count": 107,
   "metadata": {},
   "outputs": [],
   "source": [
    "if not is_valid(dataset_processed_path):\n",
    "\n",
    "    dataset_processed_path.mkdir(parents=True, exist_ok=True)\n",
    "\n",
    "    for set_name, file_names in zip(['test', 'val'], [train_names, val_names]):\n",
    "        for set_type, name_prefix in zip(['images', 'labels'], \n",
    "                                        ['rgb', 'segmentation']):\n",
    "            for file_name in file_names:\n",
    "                destiny_path = dataset_processed_path.joinpath(\n",
    "                    f'{set_name}_{set_type}',\n",
    "                    f'{file_name}.png'\n",
    "                )\n",
    "\n",
    "                origin_path = dataset_path.joinpath(\n",
    "                    set_type, f'{name_prefix}_{file_name}.png'\n",
    "                )\n",
    "\n",
    "                if not destiny_path.parent.is_dir():\n",
    "                    destiny_path.parent.mkdir(exist_ok=True)\n",
    "\n",
    "                shutil.copy(origin_path, destiny_path)"
   ]
  },
  {
   "cell_type": "markdown",
   "metadata": {},
   "source": [
    "## Update remote folders"
   ]
  },
  {
   "cell_type": "code",
   "execution_count": null,
   "metadata": {},
   "outputs": [
    {
     "name": "stdout",
     "output_type": "stream",
     "text": [
      "The notebook 0.0-vigilancia_mascotas-semantic_segmentation_test.ipynb has been updated in the remote folder\n"
     ]
    }
   ],
   "source": [
    "update_notebook(to_remote)"
   ]
  },
  {
   "cell_type": "code",
   "execution_count": null,
   "metadata": {},
   "outputs": [],
   "source": [
    "update_to_remote()"
   ]
  }
 ],
 "metadata": {
  "kernelspec": {
   "display_name": "Python 3.6.8 ('vigilancia_mascotas')",
   "language": "python",
   "name": "python3"
  },
  "language_info": {
   "codemirror_mode": {
    "name": "ipython",
    "version": 3
   },
   "file_extension": ".py",
   "mimetype": "text/x-python",
   "name": "python",
   "nbconvert_exporter": "python",
   "pygments_lexer": "ipython3",
   "version": "3.6.8"
  },
  "orig_nbformat": 4,
  "vscode": {
   "interpreter": {
    "hash": "601ef09c9bc66c05cb5add3ecbff44d038514508d2cd3dc8cd002c5ccc07f638"
   }
  }
 },
 "nbformat": 4,
 "nbformat_minor": 2
}
