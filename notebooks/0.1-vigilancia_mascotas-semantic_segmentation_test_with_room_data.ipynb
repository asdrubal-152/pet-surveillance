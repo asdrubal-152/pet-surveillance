{
  "cells": [
    {
      "cell_type": "markdown",
      "metadata": {
        "id": "aKdOutj1PnxB"
      },
      "source": [
        "# Semantic segmentation test\n",
        "\n",
        "---\n",
        "\n",
        "**Author:** [rodoart](https://github.com/rodoart/)<br>\n",
        "**Date created:** 2021/06/24<br>\n",
        "**Last modified:** 2021/07/15<br>\n",
        "**Description:** \n",
        "Using pretrained neural networks to segment images of rooms.\n",
        "\n",
        "# Semantic segmentation of rooms"
      ]
    },
    {
      "cell_type": "markdown",
      "metadata": {
        "id": "sCih97i0PnxJ"
      },
      "source": [
        "## Path config\n",
        "\n",
        "If you want the files to be copied to another folder within the same machine you are working on, by a source path other than remote."
      ]
    },
    {
      "cell_type": "code",
      "execution_count": null,
      "metadata": {
        "id": "gywAPSc9PnxL"
      },
      "outputs": [],
      "source": [
        "PROJECT_SLUG = 'vigilancia_mascotas'\n",
        "NAME = 'semantic_segmentation_test_with_room_data'\n",
        "NUMBER = '0.1'\n",
        "\n",
        "NOTEBOOK_NAME = f'{NUMBER}-{PROJECT_SLUG}-{NAME}.ipynb'\n",
        "\n",
        "USING_COLAB = True\n",
        "\n",
        "if USING_COLAB:\n",
        "    DRIVE_MOUNT = '/drive'\n",
        "    REMOTE_PATH = f'{DRIVE_MOUNT}/MyDrive/IA/seminario_innovacion/{PROJECT_SLUG}'\n",
        "    LOCAL_PATH = '.'\n",
        "    NOTEBOOK_PATH = f'{DRIVE_MOUNT}/MyDrive/Colab Notebooks/'\n",
        "\n",
        "else:\n",
        "    REMOTE_PATH = '..'\n",
        "    LOCAL_PATH = ''\n",
        "    DRIVE_MOUNT = ''\n",
        "    NOTEBOOK_PATH = f'G:\\\\Mi unidad\\\\Colab Notebooks\\\\'"
      ]
    },
    {
      "cell_type": "code",
      "execution_count": null,
      "metadata": {
        "colab": {
          "base_uri": "https://localhost:8080/"
        },
        "id": "QlDZ3Lc9PnxP",
        "outputId": "ee73a101-20fa-4fb3-f9b6-47a304c6d092"
      },
      "outputs": [
        {
          "output_type": "stream",
          "name": "stdout",
          "text": [
            "Mounted at /drive\n"
          ]
        }
      ],
      "source": [
        "if USING_COLAB:\n",
        "    from google.colab import drive\n",
        "    drive.mount(DRIVE_MOUNT)"
      ]
    },
    {
      "cell_type": "markdown",
      "metadata": {
        "id": "TjI5Xs-3PnxR"
      },
      "source": [
        "## Path functions"
      ]
    },
    {
      "cell_type": "code",
      "execution_count": null,
      "metadata": {
        "id": "L2cOwvyqPnxS"
      },
      "outputs": [],
      "source": [
        "import sys\n",
        "\n",
        "# It depends on where the library that comes with this package is stored.\n",
        "sys.path.append(REMOTE_PATH)"
      ]
    },
    {
      "cell_type": "code",
      "execution_count": null,
      "metadata": {
        "id": "sOvmq4mfPnxS"
      },
      "outputs": [],
      "source": [
        "from vigilancia_mascotas.utils.paths import make_two_dir_function, TwoWorkspacePath"
      ]
    },
    {
      "cell_type": "code",
      "execution_count": null,
      "metadata": {
        "id": "7P2P08ltPnxT"
      },
      "outputs": [],
      "source": [
        "path = make_two_dir_function(\n",
        "    local_workspace=LOCAL_PATH, \n",
        "    remote_workspace=REMOTE_PATH\n",
        ")\n"
      ]
    },
    {
      "cell_type": "markdown",
      "metadata": {
        "id": "woncGwO6PnxW"
      },
      "source": [
        "## Prepare the dataset\n",
        "\n",
        "### Download\n",
        "\n",
        "For the development of this experiment, the data set of Unity Computer Vision Datasets (Home interior sample) is used, which contains 1,000 artificially created with different types of labeling, including semantic segmentation.\n",
        "\n",
        "![Example from the dataset](https://content.cdntwrk.com/files/aHViPTEwODAwMiZjbWQ9aXRlbWVkaXRvcmltYWdlJmZpbGVuYW1lPWl0ZW1lZGl0b3JpbWFnZV82MGY5YmY3MGYxNmZkLnBuZyZ2ZXJzaW9uPTAwMDAmc2lnPTIzZTcwMzIwNzIzMGIyMzAwNmZkM2VhNGZiODFiYzkz)\n",
        "\n",
        "Access to the dataset can be obtained directly on the provided page. The following download section is designed to work only for contributors to this project, but can be easily modified once you get the download link."
      ]
    },
    {
      "cell_type": "code",
      "execution_count": null,
      "metadata": {
        "id": "53h6bVCKet6e"
      },
      "outputs": [],
      "source": [
        "from vigilancia_mascotas.data.make_dataset import DataDownload"
      ]
    },
    {
      "cell_type": "code",
      "execution_count": null,
      "metadata": {
        "id": "EEwbEcK3et6f"
      },
      "outputs": [],
      "source": [
        "data_object = DataDownload(local_workspace=path().local,\n",
        "                           remote_workspace=path().remote)\n",
        "data_object.start()\n",
        "data_path = data_object.dataset_processed_path"
      ]
    },
    {
      "cell_type": "markdown",
      "metadata": {
        "id": "MTgHAb_CPnxh"
      },
      "source": [
        "## Pre-trained models selection"
      ]
    },
    {
      "cell_type": "code",
      "execution_count": null,
      "metadata": {
        "colab": {
          "base_uri": "https://localhost:8080/",
          "height": 1000
        },
        "id": "UyihZO5eUMsg",
        "outputId": "86df2d5c-0074-425d-8e52-48d09255a763"
      },
      "outputs": [
        {
          "output_type": "stream",
          "name": "stdout",
          "text": [
            "Looking in indexes: https://pypi.org/simple, https://us-python.pkg.dev/colab-wheels/public/simple/\n",
            "Collecting keras==2.4.3\n",
            "  Downloading Keras-2.4.3-py2.py3-none-any.whl (36 kB)\n",
            "Requirement already satisfied: h5py in /usr/local/lib/python3.7/dist-packages (from keras==2.4.3) (3.1.0)\n",
            "Requirement already satisfied: pyyaml in /usr/local/lib/python3.7/dist-packages (from keras==2.4.3) (3.13)\n",
            "Requirement already satisfied: scipy>=0.14 in /usr/local/lib/python3.7/dist-packages (from keras==2.4.3) (1.7.3)\n",
            "Requirement already satisfied: numpy>=1.9.1 in /usr/local/lib/python3.7/dist-packages (from keras==2.4.3) (1.21.6)\n",
            "Requirement already satisfied: cached-property in /usr/local/lib/python3.7/dist-packages (from h5py->keras==2.4.3) (1.5.2)\n",
            "Installing collected packages: keras\n",
            "  Attempting uninstall: keras\n",
            "    Found existing installation: keras 2.8.0\n",
            "    Uninstalling keras-2.8.0:\n",
            "      Successfully uninstalled keras-2.8.0\n",
            "\u001b[31mERROR: pip's dependency resolver does not currently take into account all the packages that are installed. This behaviour is the source of the following dependency conflicts.\n",
            "tensorflow 2.8.2+zzzcolab20220527125636 requires keras<2.9,>=2.8.0rc0, but you have keras 2.4.3 which is incompatible.\u001b[0m\n",
            "Successfully installed keras-2.4.3\n",
            "Looking in indexes: https://pypi.org/simple, https://us-python.pkg.dev/colab-wheels/public/simple/\n",
            "Collecting tensorflow==2.4.1\n",
            "  Downloading tensorflow-2.4.1-cp37-cp37m-manylinux2010_x86_64.whl (394.3 MB)\n",
            "\u001b[K     |████████████████████████████████| 394.3 MB 14 kB/s \n",
            "\u001b[?25hCollecting absl-py~=0.10\n",
            "  Downloading absl_py-0.15.0-py3-none-any.whl (132 kB)\n",
            "\u001b[K     |████████████████████████████████| 132 kB 58.2 MB/s \n",
            "\u001b[?25hCollecting typing-extensions~=3.7.4\n",
            "  Downloading typing_extensions-3.7.4.3-py3-none-any.whl (22 kB)\n",
            "Collecting numpy~=1.19.2\n",
            "  Downloading numpy-1.19.5-cp37-cp37m-manylinux2010_x86_64.whl (14.8 MB)\n",
            "\u001b[K     |████████████████████████████████| 14.8 MB 43.6 MB/s \n",
            "\u001b[?25hRequirement already satisfied: keras-preprocessing~=1.1.2 in /usr/local/lib/python3.7/dist-packages (from tensorflow==2.4.1) (1.1.2)\n",
            "Requirement already satisfied: opt-einsum~=3.3.0 in /usr/local/lib/python3.7/dist-packages (from tensorflow==2.4.1) (3.3.0)\n",
            "Requirement already satisfied: google-pasta~=0.2 in /usr/local/lib/python3.7/dist-packages (from tensorflow==2.4.1) (0.2.0)\n",
            "Requirement already satisfied: six~=1.15.0 in /usr/local/lib/python3.7/dist-packages (from tensorflow==2.4.1) (1.15.0)\n",
            "Collecting tensorflow-estimator<2.5.0,>=2.4.0\n",
            "  Downloading tensorflow_estimator-2.4.0-py2.py3-none-any.whl (462 kB)\n",
            "\u001b[K     |████████████████████████████████| 462 kB 70.7 MB/s \n",
            "\u001b[?25hRequirement already satisfied: wheel~=0.35 in /usr/local/lib/python3.7/dist-packages (from tensorflow==2.4.1) (0.37.1)\n",
            "Requirement already satisfied: astunparse~=1.6.3 in /usr/local/lib/python3.7/dist-packages (from tensorflow==2.4.1) (1.6.3)\n",
            "Requirement already satisfied: termcolor~=1.1.0 in /usr/local/lib/python3.7/dist-packages (from tensorflow==2.4.1) (1.1.0)\n",
            "Collecting flatbuffers~=1.12.0\n",
            "  Downloading flatbuffers-1.12-py2.py3-none-any.whl (15 kB)\n",
            "Collecting gast==0.3.3\n",
            "  Downloading gast-0.3.3-py2.py3-none-any.whl (9.7 kB)\n",
            "Collecting wrapt~=1.12.1\n",
            "  Downloading wrapt-1.12.1.tar.gz (27 kB)\n",
            "Requirement already satisfied: tensorboard~=2.4 in /usr/local/lib/python3.7/dist-packages (from tensorflow==2.4.1) (2.8.0)\n",
            "Collecting grpcio~=1.32.0\n",
            "  Downloading grpcio-1.32.0-cp37-cp37m-manylinux2014_x86_64.whl (3.8 MB)\n",
            "\u001b[K     |████████████████████████████████| 3.8 MB 45.9 MB/s \n",
            "\u001b[?25hRequirement already satisfied: protobuf>=3.9.2 in /usr/local/lib/python3.7/dist-packages (from tensorflow==2.4.1) (3.17.3)\n",
            "Collecting h5py~=2.10.0\n",
            "  Downloading h5py-2.10.0-cp37-cp37m-manylinux1_x86_64.whl (2.9 MB)\n",
            "\u001b[K     |████████████████████████████████| 2.9 MB 42.6 MB/s \n",
            "\u001b[?25hRequirement already satisfied: requests<3,>=2.21.0 in /usr/local/lib/python3.7/dist-packages (from tensorboard~=2.4->tensorflow==2.4.1) (2.23.0)\n",
            "Requirement already satisfied: google-auth<3,>=1.6.3 in /usr/local/lib/python3.7/dist-packages (from tensorboard~=2.4->tensorflow==2.4.1) (1.35.0)\n",
            "Requirement already satisfied: markdown>=2.6.8 in /usr/local/lib/python3.7/dist-packages (from tensorboard~=2.4->tensorflow==2.4.1) (3.3.7)\n",
            "Requirement already satisfied: tensorboard-plugin-wit>=1.6.0 in /usr/local/lib/python3.7/dist-packages (from tensorboard~=2.4->tensorflow==2.4.1) (1.8.1)\n",
            "Requirement already satisfied: tensorboard-data-server<0.7.0,>=0.6.0 in /usr/local/lib/python3.7/dist-packages (from tensorboard~=2.4->tensorflow==2.4.1) (0.6.1)\n",
            "Requirement already satisfied: setuptools>=41.0.0 in /usr/local/lib/python3.7/dist-packages (from tensorboard~=2.4->tensorflow==2.4.1) (57.4.0)\n",
            "Requirement already satisfied: werkzeug>=0.11.15 in /usr/local/lib/python3.7/dist-packages (from tensorboard~=2.4->tensorflow==2.4.1) (1.0.1)\n",
            "Requirement already satisfied: google-auth-oauthlib<0.5,>=0.4.1 in /usr/local/lib/python3.7/dist-packages (from tensorboard~=2.4->tensorflow==2.4.1) (0.4.6)\n",
            "Requirement already satisfied: rsa<5,>=3.1.4 in /usr/local/lib/python3.7/dist-packages (from google-auth<3,>=1.6.3->tensorboard~=2.4->tensorflow==2.4.1) (4.8)\n",
            "Requirement already satisfied: pyasn1-modules>=0.2.1 in /usr/local/lib/python3.7/dist-packages (from google-auth<3,>=1.6.3->tensorboard~=2.4->tensorflow==2.4.1) (0.2.8)\n",
            "Requirement already satisfied: cachetools<5.0,>=2.0.0 in /usr/local/lib/python3.7/dist-packages (from google-auth<3,>=1.6.3->tensorboard~=2.4->tensorflow==2.4.1) (4.2.4)\n",
            "Requirement already satisfied: requests-oauthlib>=0.7.0 in /usr/local/lib/python3.7/dist-packages (from google-auth-oauthlib<0.5,>=0.4.1->tensorboard~=2.4->tensorflow==2.4.1) (1.3.1)\n",
            "Requirement already satisfied: importlib-metadata>=4.4 in /usr/local/lib/python3.7/dist-packages (from markdown>=2.6.8->tensorboard~=2.4->tensorflow==2.4.1) (4.12.0)\n",
            "Requirement already satisfied: zipp>=0.5 in /usr/local/lib/python3.7/dist-packages (from importlib-metadata>=4.4->markdown>=2.6.8->tensorboard~=2.4->tensorflow==2.4.1) (3.8.0)\n",
            "Requirement already satisfied: pyasn1<0.5.0,>=0.4.6 in /usr/local/lib/python3.7/dist-packages (from pyasn1-modules>=0.2.1->google-auth<3,>=1.6.3->tensorboard~=2.4->tensorflow==2.4.1) (0.4.8)\n",
            "Requirement already satisfied: certifi>=2017.4.17 in /usr/local/lib/python3.7/dist-packages (from requests<3,>=2.21.0->tensorboard~=2.4->tensorflow==2.4.1) (2022.6.15)\n",
            "Requirement already satisfied: chardet<4,>=3.0.2 in /usr/local/lib/python3.7/dist-packages (from requests<3,>=2.21.0->tensorboard~=2.4->tensorflow==2.4.1) (3.0.4)\n",
            "Requirement already satisfied: urllib3!=1.25.0,!=1.25.1,<1.26,>=1.21.1 in /usr/local/lib/python3.7/dist-packages (from requests<3,>=2.21.0->tensorboard~=2.4->tensorflow==2.4.1) (1.24.3)\n",
            "Requirement already satisfied: idna<3,>=2.5 in /usr/local/lib/python3.7/dist-packages (from requests<3,>=2.21.0->tensorboard~=2.4->tensorflow==2.4.1) (2.10)\n",
            "Requirement already satisfied: oauthlib>=3.0.0 in /usr/local/lib/python3.7/dist-packages (from requests-oauthlib>=0.7.0->google-auth-oauthlib<0.5,>=0.4.1->tensorboard~=2.4->tensorflow==2.4.1) (3.2.0)\n",
            "Building wheels for collected packages: wrapt\n",
            "  Building wheel for wrapt (setup.py) ... \u001b[?25l\u001b[?25hdone\n",
            "  Created wheel for wrapt: filename=wrapt-1.12.1-cp37-cp37m-linux_x86_64.whl size=68722 sha256=6a4af82864b92beb4b87c2f08fb23a53d7d3661264e090d4504bc6006d4f09c4\n",
            "  Stored in directory: /root/.cache/pip/wheels/62/76/4c/aa25851149f3f6d9785f6c869387ad82b3fd37582fa8147ac6\n",
            "Successfully built wrapt\n",
            "Installing collected packages: typing-extensions, numpy, grpcio, absl-py, wrapt, tensorflow-estimator, h5py, gast, flatbuffers, tensorflow\n",
            "  Attempting uninstall: typing-extensions\n",
            "    Found existing installation: typing-extensions 4.1.1\n",
            "    Uninstalling typing-extensions-4.1.1:\n",
            "      Successfully uninstalled typing-extensions-4.1.1\n",
            "  Attempting uninstall: numpy\n",
            "    Found existing installation: numpy 1.21.6\n",
            "    Uninstalling numpy-1.21.6:\n",
            "      Successfully uninstalled numpy-1.21.6\n",
            "  Attempting uninstall: grpcio\n",
            "    Found existing installation: grpcio 1.47.0\n",
            "    Uninstalling grpcio-1.47.0:\n",
            "      Successfully uninstalled grpcio-1.47.0\n",
            "  Attempting uninstall: absl-py\n",
            "    Found existing installation: absl-py 1.1.0\n",
            "    Uninstalling absl-py-1.1.0:\n",
            "      Successfully uninstalled absl-py-1.1.0\n",
            "  Attempting uninstall: wrapt\n",
            "    Found existing installation: wrapt 1.14.1\n",
            "    Uninstalling wrapt-1.14.1:\n",
            "      Successfully uninstalled wrapt-1.14.1\n",
            "  Attempting uninstall: tensorflow-estimator\n",
            "    Found existing installation: tensorflow-estimator 2.8.0\n",
            "    Uninstalling tensorflow-estimator-2.8.0:\n",
            "      Successfully uninstalled tensorflow-estimator-2.8.0\n",
            "  Attempting uninstall: h5py\n",
            "    Found existing installation: h5py 3.1.0\n",
            "    Uninstalling h5py-3.1.0:\n",
            "      Successfully uninstalled h5py-3.1.0\n",
            "  Attempting uninstall: gast\n",
            "    Found existing installation: gast 0.5.3\n",
            "    Uninstalling gast-0.5.3:\n",
            "      Successfully uninstalled gast-0.5.3\n",
            "  Attempting uninstall: flatbuffers\n",
            "    Found existing installation: flatbuffers 2.0\n",
            "    Uninstalling flatbuffers-2.0:\n",
            "      Successfully uninstalled flatbuffers-2.0\n",
            "  Attempting uninstall: tensorflow\n",
            "    Found existing installation: tensorflow 2.8.2+zzzcolab20220527125636\n",
            "    Uninstalling tensorflow-2.8.2+zzzcolab20220527125636:\n",
            "      Successfully uninstalled tensorflow-2.8.2+zzzcolab20220527125636\n",
            "\u001b[31mERROR: pip's dependency resolver does not currently take into account all the packages that are installed. This behaviour is the source of the following dependency conflicts.\n",
            "xarray-einstats 0.2.2 requires numpy>=1.21, but you have numpy 1.19.5 which is incompatible.\n",
            "datascience 0.10.6 requires folium==0.2.1, but you have folium 0.8.3 which is incompatible.\n",
            "albumentations 0.1.12 requires imgaug<0.2.7,>=0.2.5, but you have imgaug 0.2.9 which is incompatible.\u001b[0m\n",
            "Successfully installed absl-py-0.15.0 flatbuffers-1.12 gast-0.3.3 grpcio-1.32.0 h5py-2.10.0 numpy-1.19.5 tensorflow-2.4.1 tensorflow-estimator-2.4.0 typing-extensions-3.7.4.3 wrapt-1.12.1\n"
          ]
        },
        {
          "output_type": "display_data",
          "data": {
            "application/vnd.colab-display-data+json": {
              "pip_warning": {
                "packages": [
                  "numpy",
                  "typing_extensions"
                ]
              }
            }
          },
          "metadata": {}
        },
        {
          "output_type": "stream",
          "name": "stdout",
          "text": [
            "Looking in indexes: https://pypi.org/simple, https://us-python.pkg.dev/colab-wheels/public/simple/\n",
            "Collecting keras_segmentation\n",
            "  Downloading keras_segmentation-0.3.0.tar.gz (23 kB)\n",
            "Requirement already satisfied: Keras>=2.0.0 in /usr/local/lib/python3.7/dist-packages (from keras_segmentation) (2.4.3)\n",
            "Collecting imageio==2.5.0\n",
            "  Downloading imageio-2.5.0-py3-none-any.whl (3.3 MB)\n",
            "\u001b[K     |████████████████████████████████| 3.3 MB 10.1 MB/s \n",
            "\u001b[?25hRequirement already satisfied: imgaug==0.2.9 in /usr/local/lib/python3.7/dist-packages (from keras_segmentation) (0.2.9)\n",
            "Requirement already satisfied: opencv-python in /usr/local/lib/python3.7/dist-packages (from keras_segmentation) (4.1.2.30)\n",
            "Requirement already satisfied: tqdm in /usr/local/lib/python3.7/dist-packages (from keras_segmentation) (4.64.0)\n",
            "Requirement already satisfied: pillow in /usr/local/lib/python3.7/dist-packages (from imageio==2.5.0->keras_segmentation) (7.1.2)\n",
            "Requirement already satisfied: numpy in /usr/local/lib/python3.7/dist-packages (from imageio==2.5.0->keras_segmentation) (1.19.5)\n",
            "Requirement already satisfied: Shapely in /usr/local/lib/python3.7/dist-packages (from imgaug==0.2.9->keras_segmentation) (1.8.2)\n",
            "Requirement already satisfied: scikit-image>=0.11.0 in /usr/local/lib/python3.7/dist-packages (from imgaug==0.2.9->keras_segmentation) (0.18.3)\n",
            "Requirement already satisfied: six in /usr/local/lib/python3.7/dist-packages (from imgaug==0.2.9->keras_segmentation) (1.15.0)\n",
            "Requirement already satisfied: matplotlib in /usr/local/lib/python3.7/dist-packages (from imgaug==0.2.9->keras_segmentation) (3.2.2)\n",
            "Requirement already satisfied: scipy in /usr/local/lib/python3.7/dist-packages (from imgaug==0.2.9->keras_segmentation) (1.7.3)\n",
            "Requirement already satisfied: pyyaml in /usr/local/lib/python3.7/dist-packages (from Keras>=2.0.0->keras_segmentation) (3.13)\n",
            "Requirement already satisfied: h5py in /usr/local/lib/python3.7/dist-packages (from Keras>=2.0.0->keras_segmentation) (2.10.0)\n",
            "Requirement already satisfied: tifffile>=2019.7.26 in /usr/local/lib/python3.7/dist-packages (from scikit-image>=0.11.0->imgaug==0.2.9->keras_segmentation) (2021.11.2)\n",
            "Requirement already satisfied: networkx>=2.0 in /usr/local/lib/python3.7/dist-packages (from scikit-image>=0.11.0->imgaug==0.2.9->keras_segmentation) (2.6.3)\n",
            "Requirement already satisfied: PyWavelets>=1.1.1 in /usr/local/lib/python3.7/dist-packages (from scikit-image>=0.11.0->imgaug==0.2.9->keras_segmentation) (1.3.0)\n",
            "Requirement already satisfied: pyparsing!=2.0.4,!=2.1.2,!=2.1.6,>=2.0.1 in /usr/local/lib/python3.7/dist-packages (from matplotlib->imgaug==0.2.9->keras_segmentation) (3.0.9)\n",
            "Requirement already satisfied: cycler>=0.10 in /usr/local/lib/python3.7/dist-packages (from matplotlib->imgaug==0.2.9->keras_segmentation) (0.11.0)\n",
            "Requirement already satisfied: kiwisolver>=1.0.1 in /usr/local/lib/python3.7/dist-packages (from matplotlib->imgaug==0.2.9->keras_segmentation) (1.4.3)\n",
            "Requirement already satisfied: python-dateutil>=2.1 in /usr/local/lib/python3.7/dist-packages (from matplotlib->imgaug==0.2.9->keras_segmentation) (2.8.2)\n",
            "Requirement already satisfied: typing-extensions in /usr/local/lib/python3.7/dist-packages (from kiwisolver>=1.0.1->matplotlib->imgaug==0.2.9->keras_segmentation) (3.7.4.3)\n",
            "Building wheels for collected packages: keras-segmentation\n",
            "  Building wheel for keras-segmentation (setup.py) ... \u001b[?25l\u001b[?25hdone\n",
            "  Created wheel for keras-segmentation: filename=keras_segmentation-0.3.0-py3-none-any.whl size=29071 sha256=79aca6f326d3e0966e10d90328ce0431adbd6d41e83aa854485fd058e3b6c136\n",
            "  Stored in directory: /root/.cache/pip/wheels/68/dc/b3/596a3e2461ba16e935ef31661c26e823f841cfb577cec4c47a\n",
            "Successfully built keras-segmentation\n",
            "Installing collected packages: imageio, keras-segmentation\n",
            "  Attempting uninstall: imageio\n",
            "    Found existing installation: imageio 2.4.1\n",
            "    Uninstalling imageio-2.4.1:\n",
            "      Successfully uninstalled imageio-2.4.1\n",
            "\u001b[31mERROR: pip's dependency resolver does not currently take into account all the packages that are installed. This behaviour is the source of the following dependency conflicts.\n",
            "albumentations 0.1.12 requires imgaug<0.2.7,>=0.2.5, but you have imgaug 0.2.9 which is incompatible.\u001b[0m\n",
            "Successfully installed imageio-2.5.0 keras-segmentation-0.3.0\n"
          ]
        }
      ],
      "source": [
        "if DRIVE_MOUNT:\n",
        "    !pip install keras==2.4.3\n",
        "    !pip install tensorflow==2.4.1\n",
        "    !pip install keras_segmentation"
      ]
    },
    {
      "cell_type": "code",
      "execution_count": null,
      "metadata": {
        "id": "kz5-P5y3Pnxh"
      },
      "outputs": [],
      "source": [
        "from keras_segmentation.pretrained import pspnet_50_ADE_20K , pspnet_101_cityscapes, pspnet_101_voc12\n"
      ]
    },
    {
      "cell_type": "code",
      "execution_count": null,
      "metadata": {
        "id": "pyhLb-4kPnxi"
      },
      "outputs": [],
      "source": [
        "val_images_dir = data_path.local.joinpath('val_images')\n",
        "val_labels_dir = data_path.local.joinpath('val_labels')"
      ]
    },
    {
      "cell_type": "code",
      "source": [
        "def test_models(models, inp_images_dir,inp_annotations_dir):\n",
        "\n",
        "  # Verify type of files.\n",
        "  def change_to_str(dir_to_test):\n",
        "    if type(dir_to_test)==TwoWorkspacePath:\n",
        "      return str(inp_images_dir.local)\n",
        "    else:\n",
        "      return str(inp_images_dir)\n",
        "    \n",
        "  images_dir = change_to_str(inp_images_dir)\n",
        "  labels_dir = change_to_str(inp_annotations_dir)\n",
        "    \n",
        "  # Dictionary to store:  \n",
        "  all_evaluations = {}\n",
        "\n",
        "  # Evaluations\n",
        "  for model_function in models:\n",
        "    model = model_function()\n",
        "    eval_dict = model.evaluate_segmentation(inp_images_dir=images_dir, \n",
        "                                annotations_dir=labels_dir )\n",
        "    \n",
        "    all_evaluations[model_function.__name__] = eval_dict \n",
        "\n",
        "  # Change 'class_wise_IU' to list, in order to store as json.\n",
        "  for key, value in all_evaluations.items():\n",
        "    all_evaluations[key]['class_wise_IU'] = value['class_wise_IU'].tolist()\n",
        "\n",
        "  \n",
        "\n",
        "  # Showing results.\n",
        "  for key, value in all_evaluations.items():\n",
        "    print(key)\n",
        "    for in_key, in_value in value.items():\n",
        "      if in_key != 'class_wise_IU':\n",
        "        print(f'{in_key}: {in_value}')\n",
        "    print('')\n",
        "\n",
        "  return all_evaluations"
      ],
      "metadata": {
        "id": "ZBgbjnCIHGgh"
      },
      "execution_count": null,
      "outputs": []
    },
    {
      "cell_type": "code",
      "execution_count": null,
      "metadata": {
        "colab": {
          "base_uri": "https://localhost:8080/"
        },
        "id": "XU8FTlgoPnxi",
        "outputId": "a52ff8ae-afc0-4626-ce35-094b09de068c"
      },
      "outputs": [
        {
          "metadata": {
            "tags": null
          },
          "name": "stdout",
          "output_type": "stream",
          "text": [
            "Downloading data from https://www.dropbox.com/s/0uxn14y26jcui4v/pspnet50_ade20k.h5?dl=1\n",
            "187842560/187839752 [==============================] - 1s 0us/step\n"
          ]
        },
        {
          "metadata": {
            "tags": null
          },
          "name": "stderr",
          "output_type": "stream",
          "text": [
            "300it [40:47,  8.16s/it]\n"
          ]
        },
        {
          "metadata": {
            "tags": null
          },
          "name": "stdout",
          "output_type": "stream",
          "text": [
            "Downloading data from https://www.dropbox.com/s/c17g94n946tpalb/pspnet101_cityscapes.h5?dl=1\n",
            "264151040/264145248 [==============================] - 3s 0us/step\n"
          ]
        },
        {
          "output_type": "stream",
          "name": "stderr",
          "text": [
            "300it [1:31:59, 18.40s/it]\n"
          ]
        },
        {
          "output_type": "stream",
          "name": "stdout",
          "text": [
            "Downloading data from https://www.dropbox.com/s/uvqj2cjo4b9c5wg/pspnet101_voc2012.h5?dl=1\n",
            "264151040/264149344 [==============================] - 7s 0us/step\n"
          ]
        },
        {
          "output_type": "stream",
          "name": "stderr",
          "text": [
            "300it [40:56,  8.19s/it]\n"
          ]
        }
      ],
      "source": [
        "model_functions = [pspnet_50_ADE_20K, pspnet_101_cityscapes, pspnet_101_voc12]\n",
        "\n",
        "all_evaluations = test_models(\n",
        "    models=model_functions, \n",
        "    inp_images_dir=val_images_dir ,\n",
        "    inp_annotations_dir=val_labels_dir\n",
        "  )"
      ]
    },
    {
      "cell_type": "markdown",
      "metadata": {
        "id": "nnm0b17cCEFg"
      },
      "source": [
        "https://arxiv.org/pdf/1411.4038.pdf"
      ]
    },
    {
      "cell_type": "code",
      "execution_count": null,
      "metadata": {
        "id": "Ql-89jOSnRow"
      },
      "outputs": [],
      "source": [
        "import json \n",
        "from os import makedirs"
      ]
    },
    {
      "cell_type": "code",
      "source": [
        "json_path = path('data', 'interim', 'first_results.json')"
      ],
      "metadata": {
        "id": "MzaCUU_ZHSAA"
      },
      "execution_count": null,
      "outputs": []
    },
    {
      "cell_type": "code",
      "source": [
        "def upload_dict_as_json(dict_to_upload, json_path):\n",
        "  if not json_path.local.parent.is_dir():\n",
        "    makedirs(json_path.local.parent)\n",
        "\n",
        "  with open(json_path.local, 'w') as fp:\n",
        "    json.dump(dict_to_upload, fp)\n",
        "\n",
        "  json_path.upload()\n",
        "  print('The dictionary has been uploaded.')"
      ],
      "metadata": {
        "id": "t557Q1msJVh3"
      },
      "execution_count": null,
      "outputs": []
    },
    {
      "cell_type": "code",
      "execution_count": null,
      "metadata": {
        "id": "HvoRSAwmm7hM"
      },
      "outputs": [],
      "source": [
        "upload_dict_as_json(\n",
        "    dict_to_upload = all_evaluations, \n",
        "    json_path = json_path)"
      ]
    },
    {
      "cell_type": "markdown",
      "source": [
        "## Test with the default dataset"
      ],
      "metadata": {
        "id": "CGAQMmXlF1hg"
      }
    },
    {
      "cell_type": "code",
      "source": [
        "val_images_dir_default = path('data','raw','semantic_segmentation', 'dataset1', 'val_images')\n",
        "val_labels_dir_default = path('data','raw','semantic_segmentation', 'dataset1', 'val_segmentation')\n",
        "val_images_dir_default.download()\n",
        "val_labels_dir_default.download()\n",
        "\n",
        "model_functions = [pspnet_50_ADE_20K, pspnet_101_cityscapes, pspnet_101_voc12]"
      ],
      "metadata": {
        "id": "p1gRdCo4GGxk"
      },
      "execution_count": null,
      "outputs": []
    },
    {
      "cell_type": "code",
      "source": [
        "all_default_evaluations = test_models(\n",
        "    models=model_functions, \n",
        "    inp_images_dir=val_images_dir_default ,\n",
        "    inp_annotations_dir=val_labels_dir_default\n",
        "  )"
      ],
      "metadata": {
        "colab": {
          "base_uri": "https://localhost:8080/"
        },
        "id": "HvSSQavlGpvM",
        "outputId": "4001aaab-c1de-4eb6-934f-314f0575d058"
      },
      "execution_count": null,
      "outputs": [
        {
          "output_type": "stream",
          "name": "stderr",
          "text": [
            "101it [12:49,  7.62s/it]\n",
            "101it [30:25, 18.07s/it]\n",
            "101it [13:41,  8.13s/it]"
          ]
        },
        {
          "output_type": "stream",
          "name": "stdout",
          "text": [
            "pspnet_50_ADE_20K\n",
            "frequency_weighted_IU: 0.0002305893273537063\n",
            "mean_IU: 0.00037696660702621104\n",
            "\n",
            "pspnet_101_cityscapes\n",
            "frequency_weighted_IU: 0.3052844296656404\n",
            "mean_IU: 0.02002972763702657\n",
            "\n",
            "pspnet_101_voc12\n",
            "frequency_weighted_IU: 0.8294396195511148\n",
            "mean_IU: 0.044063458734799284\n",
            "\n"
          ]
        },
        {
          "output_type": "stream",
          "name": "stderr",
          "text": [
            "\n"
          ]
        }
      ]
    },
    {
      "cell_type": "code",
      "source": [
        "json_default_path = path('data', 'interim', 'default_results.json')\n"
      ],
      "metadata": {
        "id": "O2dVw4DZKWkB"
      },
      "execution_count": null,
      "outputs": []
    },
    {
      "cell_type": "code",
      "source": [
        "upload_dict_as_json(\n",
        "    dict_to_upload = all_default_evaluations, \n",
        "    json_path = json_default_path )"
      ],
      "metadata": {
        "colab": {
          "base_uri": "https://localhost:8080/"
        },
        "id": "L44K8YAwKbkk",
        "outputId": "29e1aa44-5bdb-4141-b5b6-633982d3383d"
      },
      "execution_count": null,
      "outputs": [
        {
          "output_type": "stream",
          "name": "stdout",
          "text": [
            "The dictionary has been uploaded.\n"
          ]
        }
      ]
    },
    {
      "cell_type": "markdown",
      "source": [
        "## Label prediction"
      ],
      "metadata": {
        "id": "7gDJMw39gQ2Y"
      }
    },
    {
      "cell_type": "code",
      "source": [
        "from os import listdir"
      ],
      "metadata": {
        "id": "_d7_0L9IiVlw"
      },
      "execution_count": null,
      "outputs": []
    },
    {
      "cell_type": "code",
      "source": [
        "val_labels_dir = path('data', 'processed', 'semantic_segmentation', 'unity_residential_interiors', 'val_labels')\n",
        "predicted_val_labels_dir = path( 'data', 'processed', 'semantic_segmentation', 'unity_residential_interiors', 'predicted_val_labels')\n",
        "\n",
        "makedirs(predicted_val_labels_dir.local, exist_ok=True)\n",
        "\n",
        "\n",
        "model = pspnet_50_ADE_20K()"
      ],
      "metadata": {
        "id": "lao84V4VhE5L"
      },
      "execution_count": null,
      "outputs": []
    },
    {
      "cell_type": "code",
      "source": [
        "file_names = [file_name for file_name in listdir(val_labels_dir.local) if file_name.endswith('png')]"
      ],
      "metadata": {
        "colab": {
          "base_uri": "https://localhost:8080/"
        },
        "id": "eQ85Eg4Zh6gD",
        "outputId": "9a5d9ca1-a06e-44ad-ba45-f39726d4d1e6"
      },
      "execution_count": null,
      "outputs": [
        {
          "output_type": "execute_result",
          "data": {
            "text/plain": [
              "['863.png',\n",
              " '190.png',\n",
              " '542.png',\n",
              " '1079.png',\n",
              " '257.png',\n",
              " '80.png',\n",
              " '994.png',\n",
              " '1044.png',\n",
              " '471.png',\n",
              " '206.png',\n",
              " '300.png',\n",
              " '638.png',\n",
              " '995.png',\n",
              " '247.png',\n",
              " '926.png',\n",
              " '1023.png',\n",
              " '319.png',\n",
              " '623.png',\n",
              " '555.png',\n",
              " '47.png',\n",
              " '779.png',\n",
              " '428.png',\n",
              " '736.png',\n",
              " '289.png',\n",
              " '633.png',\n",
              " '1020.png',\n",
              " '576.png',\n",
              " '1112.png',\n",
              " '475.png',\n",
              " '794.png',\n",
              " '701.png',\n",
              " '1103.png',\n",
              " '571.png',\n",
              " '333.png',\n",
              " '665.png',\n",
              " '37.png',\n",
              " '95.png',\n",
              " '980.png',\n",
              " '1104.png',\n",
              " '788.png',\n",
              " '105.png',\n",
              " '949.png',\n",
              " '1088.png',\n",
              " '917.png',\n",
              " '401.png',\n",
              " '872.png',\n",
              " '858.png',\n",
              " '67.png',\n",
              " '345.png',\n",
              " '802.png',\n",
              " '1054.png',\n",
              " '618.png',\n",
              " '433.png',\n",
              " '543.png',\n",
              " '1099.png',\n",
              " '1097.png',\n",
              " '409.png',\n",
              " '241.png',\n",
              " '536.png',\n",
              " '936.png',\n",
              " '117.png',\n",
              " '942.png',\n",
              " '1027.png',\n",
              " '244.png',\n",
              " '983.png',\n",
              " '348.png',\n",
              " '311.png',\n",
              " '1096.png',\n",
              " '1100.png',\n",
              " '29.png',\n",
              " '265.png',\n",
              " '497.png',\n",
              " '28.png',\n",
              " '16.png',\n",
              " '1049.png',\n",
              " '604.png',\n",
              " '649.png',\n",
              " '910.png',\n",
              " '431.png',\n",
              " '317.png',\n",
              " '721.png',\n",
              " '74.png',\n",
              " '240.png',\n",
              " '1029.png',\n",
              " '159.png',\n",
              " '799.png',\n",
              " '968.png',\n",
              " '985.png',\n",
              " '757.png',\n",
              " '587.png',\n",
              " '364.png',\n",
              " '516.png',\n",
              " '823.png',\n",
              " '791.png',\n",
              " '595.png',\n",
              " '913.png',\n",
              " '846.png',\n",
              " '438.png',\n",
              " '312.png',\n",
              " '469.png',\n",
              " '740.png',\n",
              " '626.png',\n",
              " '89.png',\n",
              " '71.png',\n",
              " '836.png',\n",
              " '270.png',\n",
              " '683.png',\n",
              " '1102.png',\n",
              " '708.png',\n",
              " '45.png',\n",
              " '245.png',\n",
              " '752.png',\n",
              " '1113.png',\n",
              " '23.png',\n",
              " '535.png',\n",
              " '309.png',\n",
              " '1061.png',\n",
              " '1002.png',\n",
              " '579.png',\n",
              " '321.png',\n",
              " '603.png',\n",
              " '382.png',\n",
              " '437.png',\n",
              " '352.png',\n",
              " '582.png',\n",
              " '744.png',\n",
              " '118.png',\n",
              " '31.png',\n",
              " '476.png',\n",
              " '643.png',\n",
              " '741.png',\n",
              " '278.png',\n",
              " '63.png',\n",
              " '306.png',\n",
              " '1035.png',\n",
              " '966.png',\n",
              " '592.png',\n",
              " '873.png',\n",
              " '423.png',\n",
              " '214.png',\n",
              " '344.png',\n",
              " '931.png',\n",
              " '651.png',\n",
              " '765.png',\n",
              " '1090.png',\n",
              " '792.png',\n",
              " '274.png',\n",
              " '967.png',\n",
              " '468.png',\n",
              " '1072.png',\n",
              " '388.png',\n",
              " '979.png',\n",
              " '641.png',\n",
              " '676.png',\n",
              " '774.png',\n",
              " '187.png',\n",
              " '879.png',\n",
              " '946.png',\n",
              " '351.png',\n",
              " '331.png',\n",
              " '1047.png',\n",
              " '13.png',\n",
              " '161.png',\n",
              " '559.png',\n",
              " '326.png',\n",
              " '628.png',\n",
              " '40.png',\n",
              " '518.png',\n",
              " '103.png',\n",
              " '524.png',\n",
              " '470.png',\n",
              " '156.png',\n",
              " '693.png',\n",
              " '924.png',\n",
              " '152.png',\n",
              " '607.png',\n",
              " '4.png',\n",
              " '884.png',\n",
              " '474.png',\n",
              " '212.png',\n",
              " '307.png',\n",
              " '242.png',\n",
              " '368.png',\n",
              " '684.png',\n",
              " '659.png',\n",
              " '385.png',\n",
              " '553.png',\n",
              " '696.png',\n",
              " '527.png',\n",
              " '342.png',\n",
              " '778.png',\n",
              " '90.png',\n",
              " '8.png',\n",
              " '591.png',\n",
              " '964.png',\n",
              " '573.png',\n",
              " '883.png',\n",
              " '35.png',\n",
              " '921.png',\n",
              " '360.png',\n",
              " '222.png',\n",
              " '656.png',\n",
              " '937.png',\n",
              " '391.png',\n",
              " '429.png',\n",
              " '950.png',\n",
              " '848.png',\n",
              " '363.png',\n",
              " '461.png',\n",
              " '230.png',\n",
              " '904.png',\n",
              " '944.png',\n",
              " '467.png',\n",
              " '406.png',\n",
              " '864.png',\n",
              " '127.png',\n",
              " '25.png',\n",
              " '402.png',\n",
              " '958.png',\n",
              " '812.png',\n",
              " '584.png',\n",
              " '511.png',\n",
              " '209.png',\n",
              " '664.png',\n",
              " '184.png',\n",
              " '602.png',\n",
              " '334.png',\n",
              " '528.png',\n",
              " '403.png',\n",
              " '596.png',\n",
              " '250.png',\n",
              " '755.png',\n",
              " '11.png',\n",
              " '473.png',\n",
              " '685.png',\n",
              " '268.png',\n",
              " '634.png',\n",
              " '121.png',\n",
              " '690.png',\n",
              " '263.png',\n",
              " '580.png',\n",
              " '687.png',\n",
              " '234.png',\n",
              " '102.png',\n",
              " '688.png',\n",
              " '984.png',\n",
              " '177.png',\n",
              " '200.png',\n",
              " '1018.png',\n",
              " '387.png',\n",
              " '797.png',\n",
              " '563.png',\n",
              " '1052.png',\n",
              " '805.png',\n",
              " '389.png',\n",
              " '84.png',\n",
              " '218.png',\n",
              " '550.png',\n",
              " '398.png',\n",
              " '41.png',\n",
              " '381.png',\n",
              " '743.png',\n",
              " '424.png',\n",
              " '970.png',\n",
              " '860.png',\n",
              " '1015.png',\n",
              " '258.png',\n",
              " '108.png',\n",
              " '719.png',\n",
              " '370.png',\n",
              " '376.png',\n",
              " '905.png',\n",
              " '1032.png',\n",
              " '144.png',\n",
              " '986.png',\n",
              " '597.png',\n",
              " '213.png',\n",
              " '565.png',\n",
              " '853.png',\n",
              " '859.png',\n",
              " '1073.png',\n",
              " '66.png',\n",
              " '758.png',\n",
              " '1028.png',\n",
              " '981.png',\n",
              " '217.png',\n",
              " '887.png',\n",
              " '963.png',\n",
              " '65.png',\n",
              " '680.png',\n",
              " '357.png',\n",
              " '246.png',\n",
              " '657.png',\n",
              " '1046.png',\n",
              " '288.png',\n",
              " '886.png',\n",
              " '815.png',\n",
              " '939.png',\n",
              " '819.png',\n",
              " '75.png']"
            ]
          },
          "metadata": {},
          "execution_count": 42
        }
      ]
    },
    {
      "cell_type": "code",
      "source": [
        "makedirs(predicted_val_labels_dir)"
      ],
      "metadata": {
        "id": "U_3VqAyuhVnq"
      },
      "execution_count": null,
      "outputs": []
    },
    {
      "cell_type": "code",
      "source": [
        "out = model.predict_segmentation(\n",
        "    inp=\"input_image.jpg\",\n",
        "    out_fname=\"out.png\"\n",
        ")"
      ],
      "metadata": {
        "id": "IF32HZQ6gtL2"
      },
      "execution_count": null,
      "outputs": []
    },
    {
      "cell_type": "markdown",
      "metadata": {
        "id": "sOQ_Vb_OPnxi"
      },
      "source": [
        "## Update remote folders"
      ]
    },
    {
      "cell_type": "code",
      "execution_count": null,
      "metadata": {
        "id": "xM2iIBt2Pnxi"
      },
      "outputs": [],
      "source": [
        "if USING_COLAB:\n",
        "    \n",
        "    TwoWorkspacePath(\n",
        "        NOTEBOOK_NAME,\n",
        "        local_workspace=LOCAL_PATH,\n",
        "        remote_workspace=NOTEBOOK_PATH\n",
        "        ).upload()\n",
        "\n",
        "else:\n",
        "    TwoWorkspacePath(\n",
        "        NOTEBOOK_NAME,\n",
        "        local_workspace = make_two_dir_function('notebooks').local,\n",
        "        remote_workspace=NOTEBOOK_PATH,\n",
        "        ).upload()\n"
      ]
    }
  ],
  "metadata": {
    "colab": {
      "collapsed_sections": [],
      "name": "0.1-vigilancia_mascotas-semantic_segmentation_test_with_room_data.ipynb",
      "provenance": []
    },
    "kernelspec": {
      "display_name": "Python 3.9.6 64-bit",
      "language": "python",
      "name": "python3"
    },
    "language_info": {
      "codemirror_mode": {
        "name": "ipython",
        "version": 3
      },
      "file_extension": ".py",
      "mimetype": "text/x-python",
      "name": "python",
      "nbconvert_exporter": "python",
      "pygments_lexer": "ipython3",
      "version": "3.9.6"
    },
    "vscode": {
      "interpreter": {
        "hash": "1c956367142d958c07454b7f24ecd27835754013bccfe6ee84ec37f67ce685e6"
      }
    }
  },
  "nbformat": 4,
  "nbformat_minor": 0
}