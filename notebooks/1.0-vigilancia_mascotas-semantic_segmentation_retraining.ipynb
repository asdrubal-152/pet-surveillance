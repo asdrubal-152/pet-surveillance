{
 "cells": [
  {
   "cell_type": "code",
   "execution_count": null,
   "metadata": {},
   "outputs": [],
   "source": []
  }
 ],
 "metadata": {
  "kernelspec": {
   "display_name": "Python 3.9.6 64-bit",
   "language": "python",
   "name": "python3"
  },
  "language_info": {
   "name": "python",
   "version": "3.9.6"
  },
  "orig_nbformat": 4,
  "vscode": {
   "interpreter": {
    "hash": "1c956367142d958c07454b7f24ecd27835754013bccfe6ee84ec37f67ce685e6"
   }
  }
 },
 "nbformat": 4,
 "nbformat_minor": 2
}
